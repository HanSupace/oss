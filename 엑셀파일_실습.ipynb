{
  "nbformat": 4,
  "nbformat_minor": 0,
  "metadata": {
    "colab": {
      "provenance": [],
      "authorship_tag": "ABX9TyNBKpDJIMCyGXGfYX9W7bOG",
      "include_colab_link": true
    },
    "kernelspec": {
      "name": "python3",
      "display_name": "Python 3"
    },
    "language_info": {
      "name": "python"
    }
  },
  "cells": [
    {
      "cell_type": "markdown",
      "metadata": {
        "id": "view-in-github",
        "colab_type": "text"
      },
      "source": [
        "<a href=\"https://colab.research.google.com/github/HanSupace/oss/blob/main/%EC%97%91%EC%85%80%ED%8C%8C%EC%9D%BC_%EC%8B%A4%EC%8A%B5.ipynb\" target=\"_parent\"><img src=\"https://colab.research.google.com/assets/colab-badge.svg\" alt=\"Open In Colab\"/></a>"
      ]
    },
    {
      "cell_type": "code",
      "source": [
        "!pip install openpyxl"
      ],
      "metadata": {
        "colab": {
          "base_uri": "https://localhost:8080/"
        },
        "id": "7Pf3E-EUPoG9",
        "outputId": "cc274d72-6bcc-4746-8cce-3b5174f9ca0b"
      },
      "execution_count": 1,
      "outputs": [
        {
          "output_type": "stream",
          "name": "stdout",
          "text": [
            "Requirement already satisfied: openpyxl in /usr/local/lib/python3.11/dist-packages (3.1.5)\n",
            "Requirement already satisfied: et-xmlfile in /usr/local/lib/python3.11/dist-packages (from openpyxl) (2.0.0)\n"
          ]
        }
      ]
    },
    {
      "cell_type": "code",
      "source": [
        "import csv\n",
        "import openpyxl\n",
        "\n",
        "wb = openpyxl.Workbook()\n",
        "ws = wb.active\n",
        "\n",
        "\n",
        "with open('data1.csv',encoding='cp949') as f:\n",
        "  rdr = csv.reader(f)\n",
        "  for row in rdr:\n",
        "    ws.append(row)\n",
        "\n",
        "ws2 = wb.create_sheet('sheet2')\n",
        "with open('data2.csv',encoding='cp949') as f:\n",
        "  rdr = csv.reader(f)\n",
        "  for row in rdr:\n",
        "    ws2.append(row)\n",
        "\n",
        "ws.title = '시트1'\n",
        "ws2.title = '시트2'\n",
        "\n",
        "wb.save('result.xlsx')\n",
        "\n"
      ],
      "metadata": {
        "id": "geLzV6s1PVwb"
      },
      "execution_count": 2,
      "outputs": []
    }
  ]
}