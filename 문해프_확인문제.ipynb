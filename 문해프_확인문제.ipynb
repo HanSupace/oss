{
  "nbformat": 4,
  "nbformat_minor": 0,
  "metadata": {
    "colab": {
      "provenance": [],
      "authorship_tag": "ABX9TyPIjRdCGzPsRKoW+b1fvhTX",
      "include_colab_link": true
    },
    "kernelspec": {
      "name": "python3",
      "display_name": "Python 3"
    },
    "language_info": {
      "name": "python"
    }
  },
  "cells": [
    {
      "cell_type": "markdown",
      "metadata": {
        "id": "view-in-github",
        "colab_type": "text"
      },
      "source": [
        "<a href=\"https://colab.research.google.com/github/HanSupace/oss/blob/main/%EB%AC%B8%ED%95%B4%ED%94%84_%ED%99%95%EC%9D%B8%EB%AC%B8%EC%A0%9C.ipynb\" target=\"_parent\"><img src=\"https://colab.research.google.com/assets/colab-badge.svg\" alt=\"Open In Colab\"/></a>"
      ]
    },
    {
      "cell_type": "code",
      "execution_count": null,
      "metadata": {
        "id": "pR1fm2pnVi9x",
        "colab": {
          "base_uri": "https://localhost:8080/"
        },
        "outputId": "2cfbe3b2-354d-4904-bd67-2fbea99cdb77"
      },
      "outputs": [
        {
          "output_type": "stream",
          "name": "stdout",
          "text": [
            "1 2\n",
            "3\n"
          ]
        }
      ],
      "source": [
        "def av(a,b):\n",
        "  re = a+b\n",
        "  return re\n",
        "n1,n2 = map(int,input().split())\n",
        "print(av(n1,n2))\n"
      ]
    },
    {
      "cell_type": "code",
      "source": [
        "def gugu(l):\n",
        "  for i in l:\n",
        "    if(i==0):\n",
        "      continue\n",
        "    else:\n",
        "      print(i,\" \", end='')\n",
        "\n",
        "l = [1,2,3,0]\n",
        "gugu(l)"
      ],
      "metadata": {
        "colab": {
          "base_uri": "https://localhost:8080/"
        },
        "id": "c5OT1dpv5yhp",
        "outputId": "e04dac7d-b69d-4024-9170-04c3fe84be13"
      },
      "execution_count": null,
      "outputs": [
        {
          "output_type": "stream",
          "name": "stdout",
          "text": [
            "1  2  3  "
          ]
        }
      ]
    },
    {
      "cell_type": "code",
      "source": [
        "a = int(input(\"몇 단? \"))\n",
        "for i in range (1,10):\n",
        "  print(a, \"X\", i, \"=\", a*i,sep=\"     \")"
      ],
      "metadata": {
        "colab": {
          "base_uri": "https://localhost:8080/"
        },
        "id": "dwoNpnIy6QAw",
        "outputId": "c13a7c5f-e093-49df-b26e-c30ef31c4c35"
      },
      "execution_count": null,
      "outputs": [
        {
          "output_type": "stream",
          "name": "stdout",
          "text": [
            "몇 단? 9\n",
            "9     X     1     =     9\n",
            "9     X     2     =     18\n",
            "9     X     3     =     27\n",
            "9     X     4     =     36\n",
            "9     X     5     =     45\n",
            "9     X     6     =     54\n",
            "9     X     7     =     63\n",
            "9     X     8     =     72\n",
            "9     X     9     =     81\n"
          ]
        }
      ]
    },
    {
      "cell_type": "code",
      "source": [
        "def mx(s):\n",
        "  max=0\n",
        "  for i in s:\n",
        "    if max<i:\n",
        "      max=i\n",
        "  return max\n",
        "score = [55,82,34,98,76,62]\n",
        "r = mx(score)\n",
        "print(r)\n"
      ],
      "metadata": {
        "colab": {
          "base_uri": "https://localhost:8080/"
        },
        "id": "ULiYik5s60Lg",
        "outputId": "9b2389a9-1830-4d27-90bc-0cd8e7fbc17b"
      },
      "execution_count": null,
      "outputs": [
        {
          "output_type": "stream",
          "name": "stdout",
          "text": [
            "98\n"
          ]
        }
      ]
    },
    {
      "cell_type": "code",
      "source": [
        "print(\"현재 음량은 3\")\n",
        "a= int(input(\"증가시킬만큼 입력\"))\n",
        "f=3\n",
        "print(\"후의 음량 \", f+a)"
      ],
      "metadata": {
        "colab": {
          "base_uri": "https://localhost:8080/"
        },
        "id": "cwgQXdLp7hAu",
        "outputId": "5c0f16ca-0d62-4c95-a1e9-05fd7a7fef00"
      },
      "execution_count": null,
      "outputs": [
        {
          "output_type": "stream",
          "name": "stdout",
          "text": [
            "현재 음량은 3\n",
            "증가시킬만큼 입력6\n",
            "후의 음량  9\n"
          ]
        }
      ]
    },
    {
      "cell_type": "code",
      "source": [
        "def check(n,l):\n",
        "  if n in l:\n",
        "    print(\"출근 완\\n\")\n",
        "  else:\n",
        "    print(\"출근 불가\\n\")\n",
        "l = ['yu','yang','je','ro']\n",
        "while(True):\n",
        "  n = input(\"이름 입력: \")\n",
        "  check(n,l)"
      ],
      "metadata": {
        "colab": {
          "base_uri": "https://localhost:8080/",
          "height": 584
        },
        "id": "xzsPVr6-71cx",
        "outputId": "fdd0e86d-726b-4b32-ca10-6109709565b8"
      },
      "execution_count": null,
      "outputs": [
        {
          "output_type": "stream",
          "name": "stdout",
          "text": [
            "이름 입력: yu\n",
            "출근 완\n",
            "\n",
            "이름 입력: he\n",
            "출근 불가\n",
            "\n",
            "이름 입력: je\n",
            "출근 완\n",
            "\n",
            "이름 입력: s\n",
            "출근 불가\n",
            "\n"
          ]
        },
        {
          "output_type": "error",
          "ename": "KeyboardInterrupt",
          "evalue": "Interrupted by user",
          "traceback": [
            "\u001b[0;31m---------------------------------------------------------------------------\u001b[0m",
            "\u001b[0;31mKeyboardInterrupt\u001b[0m                         Traceback (most recent call last)",
            "\u001b[0;32m<ipython-input-28-196eb758abc0>\u001b[0m in \u001b[0;36m<cell line: 0>\u001b[0;34m()\u001b[0m\n\u001b[1;32m      6\u001b[0m \u001b[0ml\u001b[0m \u001b[0;34m=\u001b[0m \u001b[0;34m[\u001b[0m\u001b[0;34m'yu'\u001b[0m\u001b[0;34m,\u001b[0m\u001b[0;34m'yang'\u001b[0m\u001b[0;34m,\u001b[0m\u001b[0;34m'je'\u001b[0m\u001b[0;34m,\u001b[0m\u001b[0;34m'ro'\u001b[0m\u001b[0;34m]\u001b[0m\u001b[0;34m\u001b[0m\u001b[0;34m\u001b[0m\u001b[0m\n\u001b[1;32m      7\u001b[0m \u001b[0;32mwhile\u001b[0m\u001b[0;34m(\u001b[0m\u001b[0;32mTrue\u001b[0m\u001b[0;34m)\u001b[0m\u001b[0;34m:\u001b[0m\u001b[0;34m\u001b[0m\u001b[0;34m\u001b[0m\u001b[0m\n\u001b[0;32m----> 8\u001b[0;31m   \u001b[0mn\u001b[0m \u001b[0;34m=\u001b[0m \u001b[0minput\u001b[0m\u001b[0;34m(\u001b[0m\u001b[0;34m\"이름 입력: \"\u001b[0m\u001b[0;34m)\u001b[0m\u001b[0;34m\u001b[0m\u001b[0;34m\u001b[0m\u001b[0m\n\u001b[0m\u001b[1;32m      9\u001b[0m   \u001b[0mcheck\u001b[0m\u001b[0;34m(\u001b[0m\u001b[0mn\u001b[0m\u001b[0;34m,\u001b[0m\u001b[0ml\u001b[0m\u001b[0;34m)\u001b[0m\u001b[0;34m\u001b[0m\u001b[0;34m\u001b[0m\u001b[0m\n",
            "\u001b[0;32m/usr/local/lib/python3.11/dist-packages/ipykernel/kernelbase.py\u001b[0m in \u001b[0;36mraw_input\u001b[0;34m(self, prompt)\u001b[0m\n\u001b[1;32m   1175\u001b[0m                 \u001b[0;34m\"raw_input was called, but this frontend does not support input requests.\"\u001b[0m\u001b[0;34m\u001b[0m\u001b[0;34m\u001b[0m\u001b[0m\n\u001b[1;32m   1176\u001b[0m             )\n\u001b[0;32m-> 1177\u001b[0;31m         return self._input_request(\n\u001b[0m\u001b[1;32m   1178\u001b[0m             \u001b[0mstr\u001b[0m\u001b[0;34m(\u001b[0m\u001b[0mprompt\u001b[0m\u001b[0;34m)\u001b[0m\u001b[0;34m,\u001b[0m\u001b[0;34m\u001b[0m\u001b[0;34m\u001b[0m\u001b[0m\n\u001b[1;32m   1179\u001b[0m             \u001b[0mself\u001b[0m\u001b[0;34m.\u001b[0m\u001b[0m_parent_ident\u001b[0m\u001b[0;34m[\u001b[0m\u001b[0;34m\"shell\"\u001b[0m\u001b[0;34m]\u001b[0m\u001b[0;34m,\u001b[0m\u001b[0;34m\u001b[0m\u001b[0;34m\u001b[0m\u001b[0m\n",
            "\u001b[0;32m/usr/local/lib/python3.11/dist-packages/ipykernel/kernelbase.py\u001b[0m in \u001b[0;36m_input_request\u001b[0;34m(self, prompt, ident, parent, password)\u001b[0m\n\u001b[1;32m   1217\u001b[0m             \u001b[0;32mexcept\u001b[0m \u001b[0mKeyboardInterrupt\u001b[0m\u001b[0;34m:\u001b[0m\u001b[0;34m\u001b[0m\u001b[0;34m\u001b[0m\u001b[0m\n\u001b[1;32m   1218\u001b[0m                 \u001b[0;31m# re-raise KeyboardInterrupt, to truncate traceback\u001b[0m\u001b[0;34m\u001b[0m\u001b[0;34m\u001b[0m\u001b[0m\n\u001b[0;32m-> 1219\u001b[0;31m                 \u001b[0;32mraise\u001b[0m \u001b[0mKeyboardInterrupt\u001b[0m\u001b[0;34m(\u001b[0m\u001b[0;34m\"Interrupted by user\"\u001b[0m\u001b[0;34m)\u001b[0m \u001b[0;32mfrom\u001b[0m \u001b[0;32mNone\u001b[0m\u001b[0;34m\u001b[0m\u001b[0;34m\u001b[0m\u001b[0m\n\u001b[0m\u001b[1;32m   1220\u001b[0m             \u001b[0;32mexcept\u001b[0m \u001b[0mException\u001b[0m\u001b[0;34m:\u001b[0m\u001b[0;34m\u001b[0m\u001b[0;34m\u001b[0m\u001b[0m\n\u001b[1;32m   1221\u001b[0m                 \u001b[0mself\u001b[0m\u001b[0;34m.\u001b[0m\u001b[0mlog\u001b[0m\u001b[0;34m.\u001b[0m\u001b[0mwarning\u001b[0m\u001b[0;34m(\u001b[0m\u001b[0;34m\"Invalid Message:\"\u001b[0m\u001b[0;34m,\u001b[0m \u001b[0mexc_info\u001b[0m\u001b[0;34m=\u001b[0m\u001b[0;32mTrue\u001b[0m\u001b[0;34m)\u001b[0m\u001b[0;34m\u001b[0m\u001b[0;34m\u001b[0m\u001b[0m\n",
            "\u001b[0;31mKeyboardInterrupt\u001b[0m: Interrupted by user"
          ]
        }
      ]
    },
    {
      "cell_type": "code",
      "source": [
        "def disp(n,s,r):\n",
        "  n=int(n)\n",
        "  r=int(r)\n",
        "  if s=='+':\n",
        "    result = lambda a,b:a+b(n,r)\n",
        "  elif s=='-':\n",
        "    result = lambda a,b:a-b(n,r)\n",
        "  elif s=='*':\n",
        "    result = lambda a,b:a*b(n,r)\n",
        "  elif s=='/':\n",
        "    result = (lambda a,b:a/b)(n,r)\n",
        "  return result\n",
        "\n",
        "print(\"계산 할 수와 연산기호 입력\")\n",
        "n,s,r=input().split()\n",
        "disp(n,s,r)\n",
        "print(disp(n,s,r))"
      ],
      "metadata": {
        "colab": {
          "base_uri": "https://localhost:8080/"
        },
        "id": "VOV9TscQ9AVN",
        "outputId": "c30f1588-f4de-44a7-8b2a-e385e25c5486"
      },
      "execution_count": null,
      "outputs": [
        {
          "output_type": "stream",
          "name": "stdout",
          "text": [
            "계산 할 수와 연산기호 입력\n",
            "5 / 1\n",
            "5.0\n"
          ]
        }
      ]
    },
    {
      "cell_type": "code",
      "source": [
        "def cpn(a):\n",
        "  for i in range(2,a):\n",
        "    if a%i==0:\n",
        "      print(\"소수 아님\")\n",
        "      return\n",
        "  print(\"소수\")\n",
        "a = int(input(\"숫자 입력: \"))\n",
        "cpn(a)"
      ],
      "metadata": {
        "colab": {
          "base_uri": "https://localhost:8080/"
        },
        "id": "ynYqDt9V-0Wj",
        "outputId": "261c879a-39b9-4a71-c3ee-b75713272708"
      },
      "execution_count": null,
      "outputs": [
        {
          "output_type": "stream",
          "name": "stdout",
          "text": [
            "숫자 입력: 5\n",
            "소수\n"
          ]
        }
      ]
    },
    {
      "cell_type": "code",
      "source": [
        "class Rec:\n",
        "  def __init__(self,w,h):\n",
        "    self.w =w\n",
        "    self.h=h\n",
        "\n",
        "a,b = map(int, input().split())\n",
        "r = Rec(a,b)\n",
        "print(r.w*r.h)"
      ],
      "metadata": {
        "colab": {
          "base_uri": "https://localhost:8080/"
        },
        "id": "KTPzbdBS_na-",
        "outputId": "cdae0ad4-5023-4c88-b6c4-15b5aa00f997"
      },
      "execution_count": null,
      "outputs": [
        {
          "output_type": "stream",
          "name": "stdout",
          "text": [
            "1 2\n",
            "2\n"
          ]
        }
      ]
    },
    {
      "cell_type": "code",
      "source": [
        "import random\n",
        "class cha:\n",
        "  def __init__(self, name, hp):\n",
        "    self.name = name\n",
        "    self.hp = hp\n",
        "  def at(self):\n",
        "    self.hp-=10\n",
        "    print(self.name,\" 이가 공격 받음 생명력 : \",self.hp )\n",
        "\n",
        "champ=[cha(\"크산테\", 1000),cha(\"신지드\",900),cha(\"유미\",500)]\n",
        "for i in range(10):\n",
        "  n = random.randrange(0,3)\n",
        "\n",
        "  champ[n].at()"
      ],
      "metadata": {
        "colab": {
          "base_uri": "https://localhost:8080/"
        },
        "id": "aJffVv-eAliC",
        "outputId": "10d0ec87-c151-435a-ad4c-ff13d37ac268"
      },
      "execution_count": null,
      "outputs": [
        {
          "output_type": "stream",
          "name": "stdout",
          "text": [
            "신지드  이가 공격 받음 생명력 :  890\n",
            "크산테  이가 공격 받음 생명력 :  990\n",
            "신지드  이가 공격 받음 생명력 :  880\n",
            "신지드  이가 공격 받음 생명력 :  870\n",
            "크산테  이가 공격 받음 생명력 :  980\n",
            "유미  이가 공격 받음 생명력 :  490\n",
            "유미  이가 공격 받음 생명력 :  480\n",
            "크산테  이가 공격 받음 생명력 :  970\n",
            "유미  이가 공격 받음 생명력 :  470\n",
            "유미  이가 공격 받음 생명력 :  460\n"
          ]
        }
      ]
    },
    {
      "cell_type": "code",
      "source": [
        "\n",
        "class bc:\n",
        "  def __init__(self,name=\"\",mail=\"\",ad=\"\"):\n",
        "    pass\n",
        "  def set_info(self,name,mail,ad):\n",
        "    self.name = name\n",
        "    self.mail=mail\n",
        "    self.ad=ad\n",
        "\n",
        "  def print_info(self):\n",
        "    print(\"이름 :\", self.name)\n",
        "    print(\"이메일 :\", self.mail)\n",
        "    print(\"주소 :\", self.ad)\n",
        "\n",
        "p = bc()\n",
        "p.set_info(\"이름\",\"메일\",\"주소\")\n",
        "p.print_info()"
      ],
      "metadata": {
        "colab": {
          "base_uri": "https://localhost:8080/"
        },
        "id": "_BHh9az1B-s5",
        "outputId": "3226cda0-0f72-4fd2-9383-9b1813315f8a"
      },
      "execution_count": null,
      "outputs": [
        {
          "output_type": "stream",
          "name": "stdout",
          "text": [
            "이름 : 이름\n",
            "이메일 : 메일\n",
            "주소 : 주소\n"
          ]
        }
      ]
    },
    {
      "cell_type": "code",
      "source": [
        "import csv\n",
        "\n",
        "with open('weather_a.csv', 'r', encoding='cp949') as f:\n",
        "    rdr = csv.reader(f)\n",
        "    header = next(rdr)  # 헤더 건너뛰기\n",
        "    max_speed = 0\n",
        "\n",
        "    for row in rdr:\n",
        "        try:\n",
        "            wind = float(row[2])  # 소수 포함 처리\n",
        "            if max_speed < wind:\n",
        "                max_speed = wind\n",
        "        except (ValueError, IndexError):\n",
        "            # 숫자로 변환 안 되거나 인덱스가 없을 경우는 건너뜀\n",
        "            continue\n",
        "\n",
        "    print(\"최대풍속:\", max_speed)\n"
      ],
      "metadata": {
        "colab": {
          "base_uri": "https://localhost:8080/"
        },
        "id": "kbhLY6DgB99M",
        "outputId": "61a7db8e-210f-4ca9-b5ed-1970fae9d381"
      },
      "execution_count": null,
      "outputs": [
        {
          "output_type": "stream",
          "name": "stdout",
          "text": [
            "최대풍속: 26.0\n"
          ]
        }
      ]
    },
    {
      "cell_type": "code",
      "source": [
        "import csv\n",
        "with open(\"students.csv\",'r',encoding='utf-8-sig') as f:\n",
        "  rdr = csv.reader(f)\n",
        "  h = next(rdr)\n",
        "  for row in rdr:\n",
        "    if int(row[3])>90:\n",
        "      print(row[0], \": \",row[3])\n"
      ],
      "metadata": {
        "colab": {
          "base_uri": "https://localhost:8080/",
          "height": 379
        },
        "id": "xseNeOPjGGPv",
        "outputId": "12451eb8-bf14-4dde-cbaa-185bc2ff1857"
      },
      "execution_count": null,
      "outputs": [
        {
          "output_type": "error",
          "ename": "UnicodeDecodeError",
          "evalue": "'utf-8' codec can't decode byte 0x84 in position 14: invalid start byte",
          "traceback": [
            "\u001b[0;31m---------------------------------------------------------------------------\u001b[0m",
            "\u001b[0;31mUnicodeDecodeError\u001b[0m                        Traceback (most recent call last)",
            "\u001b[0;32m<ipython-input-61-8aaa65393e77>\u001b[0m in \u001b[0;36m<cell line: 0>\u001b[0;34m()\u001b[0m\n\u001b[1;32m      2\u001b[0m \u001b[0;32mwith\u001b[0m \u001b[0mopen\u001b[0m\u001b[0;34m(\u001b[0m\u001b[0;34m\"students.csv\"\u001b[0m\u001b[0;34m,\u001b[0m\u001b[0;34m'r'\u001b[0m\u001b[0;34m,\u001b[0m\u001b[0mencoding\u001b[0m\u001b[0;34m=\u001b[0m\u001b[0;34m'utf-8-sig'\u001b[0m\u001b[0;34m)\u001b[0m \u001b[0;32mas\u001b[0m \u001b[0mf\u001b[0m\u001b[0;34m:\u001b[0m\u001b[0;34m\u001b[0m\u001b[0;34m\u001b[0m\u001b[0m\n\u001b[1;32m      3\u001b[0m   \u001b[0mrdr\u001b[0m \u001b[0;34m=\u001b[0m \u001b[0mcsv\u001b[0m\u001b[0;34m.\u001b[0m\u001b[0mreader\u001b[0m\u001b[0;34m(\u001b[0m\u001b[0mf\u001b[0m\u001b[0;34m)\u001b[0m\u001b[0;34m\u001b[0m\u001b[0;34m\u001b[0m\u001b[0m\n\u001b[0;32m----> 4\u001b[0;31m   \u001b[0mh\u001b[0m \u001b[0;34m=\u001b[0m \u001b[0mnext\u001b[0m\u001b[0;34m(\u001b[0m\u001b[0mrdr\u001b[0m\u001b[0;34m)\u001b[0m\u001b[0;34m\u001b[0m\u001b[0;34m\u001b[0m\u001b[0m\n\u001b[0m\u001b[1;32m      5\u001b[0m   \u001b[0;32mfor\u001b[0m \u001b[0mrow\u001b[0m \u001b[0;32min\u001b[0m \u001b[0mrdr\u001b[0m\u001b[0;34m:\u001b[0m\u001b[0;34m\u001b[0m\u001b[0;34m\u001b[0m\u001b[0m\n\u001b[1;32m      6\u001b[0m     \u001b[0;32mif\u001b[0m \u001b[0mint\u001b[0m\u001b[0;34m(\u001b[0m\u001b[0mrow\u001b[0m\u001b[0;34m[\u001b[0m\u001b[0;36m3\u001b[0m\u001b[0;34m]\u001b[0m\u001b[0;34m)\u001b[0m\u001b[0;34m>\u001b[0m\u001b[0;36m90\u001b[0m\u001b[0;34m:\u001b[0m\u001b[0;34m\u001b[0m\u001b[0;34m\u001b[0m\u001b[0m\n",
            "\u001b[0;32m/usr/lib/python3.11/codecs.py\u001b[0m in \u001b[0;36mdecode\u001b[0;34m(self, input, final)\u001b[0m\n",
            "\u001b[0;32m/usr/lib/python3.11/encodings/utf_8_sig.py\u001b[0m in \u001b[0;36m_buffer_decode\u001b[0;34m(self, input, errors, final)\u001b[0m\n\u001b[1;32m     67\u001b[0m                        \u001b[0mcodecs\u001b[0m\u001b[0;34m.\u001b[0m\u001b[0mutf_8_decode\u001b[0m\u001b[0;34m(\u001b[0m\u001b[0minput\u001b[0m\u001b[0;34m[\u001b[0m\u001b[0;36m3\u001b[0m\u001b[0;34m:\u001b[0m\u001b[0;34m]\u001b[0m\u001b[0;34m,\u001b[0m \u001b[0merrors\u001b[0m\u001b[0;34m,\u001b[0m \u001b[0mfinal\u001b[0m\u001b[0;34m)\u001b[0m\u001b[0;34m\u001b[0m\u001b[0;34m\u001b[0m\u001b[0m\n\u001b[1;32m     68\u001b[0m                     \u001b[0;32mreturn\u001b[0m \u001b[0;34m(\u001b[0m\u001b[0moutput\u001b[0m\u001b[0;34m,\u001b[0m \u001b[0mconsumed\u001b[0m\u001b[0;34m+\u001b[0m\u001b[0;36m3\u001b[0m\u001b[0;34m)\u001b[0m\u001b[0;34m\u001b[0m\u001b[0;34m\u001b[0m\u001b[0m\n\u001b[0;32m---> 69\u001b[0;31m         \u001b[0;32mreturn\u001b[0m \u001b[0mcodecs\u001b[0m\u001b[0;34m.\u001b[0m\u001b[0mutf_8_decode\u001b[0m\u001b[0;34m(\u001b[0m\u001b[0minput\u001b[0m\u001b[0;34m,\u001b[0m \u001b[0merrors\u001b[0m\u001b[0;34m,\u001b[0m \u001b[0mfinal\u001b[0m\u001b[0;34m)\u001b[0m\u001b[0;34m\u001b[0m\u001b[0;34m\u001b[0m\u001b[0m\n\u001b[0m\u001b[1;32m     70\u001b[0m \u001b[0;34m\u001b[0m\u001b[0m\n\u001b[1;32m     71\u001b[0m     \u001b[0;32mdef\u001b[0m \u001b[0mreset\u001b[0m\u001b[0;34m(\u001b[0m\u001b[0mself\u001b[0m\u001b[0;34m)\u001b[0m\u001b[0;34m:\u001b[0m\u001b[0;34m\u001b[0m\u001b[0;34m\u001b[0m\u001b[0m\n",
            "\u001b[0;31mUnicodeDecodeError\u001b[0m: 'utf-8' codec can't decode byte 0x84 in position 14: invalid start byte"
          ]
        }
      ]
    },
    {
      "cell_type": "code",
      "source": [
        "!pip install openpyxl"
      ],
      "metadata": {
        "colab": {
          "base_uri": "https://localhost:8080/"
        },
        "id": "xu3GRFPQIArC",
        "outputId": "b416f7f9-bd88-4c0f-9a6b-6b9163d45ad2"
      },
      "execution_count": null,
      "outputs": [
        {
          "output_type": "stream",
          "name": "stdout",
          "text": [
            "Requirement already satisfied: openpyxl in /usr/local/lib/python3.11/dist-packages (3.1.5)\n",
            "Requirement already satisfied: et-xmlfile in /usr/local/lib/python3.11/dist-packages (from openpyxl) (2.0.0)\n"
          ]
        }
      ]
    },
    {
      "cell_type": "code",
      "source": [
        "import openpyxl\n",
        "\n",
        "wb = openpyxl.load_workbook('complete.xlsx')\n",
        "sheet1 = wb[\"sheet\"]\n",
        "sheet1['A3']=\"Sarah\"\n",
        "sheet1['B3']=\"jan\"\n",
        "sheet1['C3']=\"5200\"\n",
        "\n",
        "wb.save('complete.xlsx')"
      ],
      "metadata": {
        "id": "nXNQmhWwIHzp"
      },
      "execution_count": 67,
      "outputs": []
    }
  ]
}